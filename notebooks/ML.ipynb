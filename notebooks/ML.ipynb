{
 "cells": [
  {
   "cell_type": "markdown",
   "metadata": {},
   "source": [
    "%%time\n",
    "<h1>Introduction</h1>\n",
    "\n",
    "Sweet Lift Taxi would like to maximize the number of tax orders during peak hours. To that end, this project looks at models to predict the number of taxi orders in the next hour and selects the most optimized and accurate model to help Sweet Lift do just that."
   ]
  },
  {
   "cell_type": "markdown",
   "metadata": {},
   "source": [
    "Importing the necessary libraries"
   ]
  },
  {
   "cell_type": "code",
   "execution_count": 1,
   "metadata": {},
   "outputs": [
    {
     "name": "stdout",
     "output_type": "stream",
     "text": [
      "CPU times: user 2.33 s, sys: 414 ms, total: 2.74 s\n",
      "Wall time: 3.15 s\n"
     ]
    }
   ],
   "source": [
    "%%time\n",
    "import pandas as pd\n",
    "import numpy as np\n",
    "from IPython.display import display\n",
    "import math\n",
    "import matplotlib.pyplot as plt\n",
    "import seaborn as sns\n",
    "from sklearn.linear_model import LinearRegression\t\n",
    "from sklearn.tree import DecisionTreeRegressor\n",
    "from sklearn.ensemble import RandomForestRegressor\n",
    "from sklearn.dummy import DummyRegressor\n",
    "from sklearn.metrics import mean_squared_error\n",
    "from sklearn.preprocessing import StandardScaler\n",
    "from sklearn.preprocessing import LabelEncoder\n",
    "from catboost import CatBoostRegressor\n",
    "from lightgbm import LGBMRegressor\n",
    "from xgboost import XGBRegressor\n",
    "from sklearn.model_selection import train_test_split\n",
    "plt.style.use('ggplot')\n"
   ]
  },
  {
   "cell_type": "markdown",
   "metadata": {},
   "source": [
    "Importing the data"
   ]
  },
  {
   "cell_type": "code",
   "execution_count": 2,
   "metadata": {},
   "outputs": [
    {
     "name": "stdout",
     "output_type": "stream",
     "text": [
      "CPU times: user 29.5 ms, sys: 5.46 ms, total: 34.9 ms\n",
      "Wall time: 34.2 ms\n"
     ]
    }
   ],
   "source": [
    "%%time\n",
    "taxi_data = pd.read_csv(\"/Users/admin/Desktop/GitHub/new_repos/sweet-lift-taxi/taxi.csv\", encoding = \"utf-8\", parse_dates=[0])\n"
   ]
  },
  {
   "cell_type": "markdown",
   "metadata": {},
   "source": [
    "Viewing a sample of the data and info about the dataframe"
   ]
  },
  {
   "cell_type": "code",
   "execution_count": 3,
   "metadata": {},
   "outputs": [
    {
     "data": {
      "text/html": [
       "<div>\n",
       "<style scoped>\n",
       "    .dataframe tbody tr th:only-of-type {\n",
       "        vertical-align: middle;\n",
       "    }\n",
       "\n",
       "    .dataframe tbody tr th {\n",
       "        vertical-align: top;\n",
       "    }\n",
       "\n",
       "    .dataframe thead th {\n",
       "        text-align: right;\n",
       "    }\n",
       "</style>\n",
       "<table border=\"1\" class=\"dataframe\">\n",
       "  <thead>\n",
       "    <tr style=\"text-align: right;\">\n",
       "      <th></th>\n",
       "      <th>datetime</th>\n",
       "      <th>num_orders</th>\n",
       "    </tr>\n",
       "  </thead>\n",
       "  <tbody>\n",
       "    <tr>\n",
       "      <th>9352</th>\n",
       "      <td>2018-05-04 22:40:00</td>\n",
       "      <td>13</td>\n",
       "    </tr>\n",
       "    <tr>\n",
       "      <th>25644</th>\n",
       "      <td>2018-08-26 02:00:00</td>\n",
       "      <td>33</td>\n",
       "    </tr>\n",
       "    <tr>\n",
       "      <th>23924</th>\n",
       "      <td>2018-08-14 03:20:00</td>\n",
       "      <td>55</td>\n",
       "    </tr>\n",
       "    <tr>\n",
       "      <th>891</th>\n",
       "      <td>2018-03-07 04:30:00</td>\n",
       "      <td>4</td>\n",
       "    </tr>\n",
       "    <tr>\n",
       "      <th>8017</th>\n",
       "      <td>2018-04-25 16:10:00</td>\n",
       "      <td>21</td>\n",
       "    </tr>\n",
       "    <tr>\n",
       "      <th>26447</th>\n",
       "      <td>2018-08-31 15:50:00</td>\n",
       "      <td>31</td>\n",
       "    </tr>\n",
       "    <tr>\n",
       "      <th>3154</th>\n",
       "      <td>2018-03-22 21:40:00</td>\n",
       "      <td>7</td>\n",
       "    </tr>\n",
       "    <tr>\n",
       "      <th>22621</th>\n",
       "      <td>2018-08-05 02:10:00</td>\n",
       "      <td>23</td>\n",
       "    </tr>\n",
       "    <tr>\n",
       "      <th>25401</th>\n",
       "      <td>2018-08-24 09:30:00</td>\n",
       "      <td>25</td>\n",
       "    </tr>\n",
       "    <tr>\n",
       "      <th>22142</th>\n",
       "      <td>2018-08-01 18:20:00</td>\n",
       "      <td>6</td>\n",
       "    </tr>\n",
       "  </tbody>\n",
       "</table>\n",
       "</div>"
      ],
      "text/plain": [
       "                 datetime  num_orders\n",
       "9352  2018-05-04 22:40:00          13\n",
       "25644 2018-08-26 02:00:00          33\n",
       "23924 2018-08-14 03:20:00          55\n",
       "891   2018-03-07 04:30:00           4\n",
       "8017  2018-04-25 16:10:00          21\n",
       "26447 2018-08-31 15:50:00          31\n",
       "3154  2018-03-22 21:40:00           7\n",
       "22621 2018-08-05 02:10:00          23\n",
       "25401 2018-08-24 09:30:00          25\n",
       "22142 2018-08-01 18:20:00           6"
      ]
     },
     "metadata": {},
     "output_type": "display_data"
    },
    {
     "name": "stdout",
     "output_type": "stream",
     "text": [
      "<class 'pandas.core.frame.DataFrame'>\n",
      "RangeIndex: 26496 entries, 0 to 26495\n",
      "Data columns (total 2 columns):\n",
      " #   Column      Non-Null Count  Dtype         \n",
      "---  ------      --------------  -----         \n",
      " 0   datetime    26496 non-null  datetime64[ns]\n",
      " 1   num_orders  26496 non-null  int64         \n",
      "dtypes: datetime64[ns](1), int64(1)\n",
      "memory usage: 414.1 KB\n",
      "CPU times: user 14.3 ms, sys: 3.03 ms, total: 17.4 ms\n",
      "Wall time: 16.2 ms\n"
     ]
    }
   ],
   "source": [
    "%%time\n",
    "display(taxi_data.sample(10))\n",
    "taxi_data.info()"
   ]
  },
  {
   "cell_type": "markdown",
   "metadata": {},
   "source": [
    "<h2>Data Preprocessing</h2>"
   ]
  },
  {
   "cell_type": "markdown",
   "metadata": {},
   "source": [
    "This code looks for duplicate columns. Since there are only two columns, both with no null values, the preprocessing is fairly limited."
   ]
  },
  {
   "cell_type": "code",
   "execution_count": 4,
   "metadata": {},
   "outputs": [
    {
     "name": "stdout",
     "output_type": "stream",
     "text": [
      "0\n",
      "CPU times: user 2.72 ms, sys: 1.38 ms, total: 4.1 ms\n",
      "Wall time: 2.64 ms\n"
     ]
    }
   ],
   "source": [
    "%%time\n",
    "print(taxi_data.duplicated().sum())"
   ]
  },
  {
   "cell_type": "code",
   "execution_count": 5,
   "metadata": {},
   "outputs": [
    {
     "name": "stdout",
     "output_type": "stream",
     "text": [
      "CPU times: user 1.26 ms, sys: 510 µs, total: 1.77 ms\n",
      "Wall time: 1.32 ms\n"
     ]
    }
   ],
   "source": [
    "%%time\n",
    "taxi_data = taxi_data.set_index('datetime')\n",
    "taxi_data.sort_index(inplace=True)"
   ]
  },
  {
   "cell_type": "markdown",
   "metadata": {},
   "source": [
    "<h2>Data Resampling</h2>"
   ]
  },
  {
   "cell_type": "markdown",
   "metadata": {},
   "source": [
    "This code resamples the data by one hour."
   ]
  },
  {
   "cell_type": "code",
   "execution_count": 6,
   "metadata": {},
   "outputs": [
    {
     "data": {
      "text/html": [
       "<div>\n",
       "<style scoped>\n",
       "    .dataframe tbody tr th:only-of-type {\n",
       "        vertical-align: middle;\n",
       "    }\n",
       "\n",
       "    .dataframe tbody tr th {\n",
       "        vertical-align: top;\n",
       "    }\n",
       "\n",
       "    .dataframe thead th {\n",
       "        text-align: right;\n",
       "    }\n",
       "</style>\n",
       "<table border=\"1\" class=\"dataframe\">\n",
       "  <thead>\n",
       "    <tr style=\"text-align: right;\">\n",
       "      <th></th>\n",
       "      <th>num_orders</th>\n",
       "    </tr>\n",
       "    <tr>\n",
       "      <th>datetime</th>\n",
       "      <th></th>\n",
       "    </tr>\n",
       "  </thead>\n",
       "  <tbody>\n",
       "    <tr>\n",
       "      <th>2018-03-01 00:00:00</th>\n",
       "      <td>124</td>\n",
       "    </tr>\n",
       "    <tr>\n",
       "      <th>2018-03-01 01:00:00</th>\n",
       "      <td>85</td>\n",
       "    </tr>\n",
       "    <tr>\n",
       "      <th>2018-03-01 02:00:00</th>\n",
       "      <td>71</td>\n",
       "    </tr>\n",
       "    <tr>\n",
       "      <th>2018-03-01 03:00:00</th>\n",
       "      <td>66</td>\n",
       "    </tr>\n",
       "    <tr>\n",
       "      <th>2018-03-01 04:00:00</th>\n",
       "      <td>43</td>\n",
       "    </tr>\n",
       "    <tr>\n",
       "      <th>2018-03-01 05:00:00</th>\n",
       "      <td>6</td>\n",
       "    </tr>\n",
       "    <tr>\n",
       "      <th>2018-03-01 06:00:00</th>\n",
       "      <td>12</td>\n",
       "    </tr>\n",
       "    <tr>\n",
       "      <th>2018-03-01 07:00:00</th>\n",
       "      <td>15</td>\n",
       "    </tr>\n",
       "    <tr>\n",
       "      <th>2018-03-01 08:00:00</th>\n",
       "      <td>34</td>\n",
       "    </tr>\n",
       "    <tr>\n",
       "      <th>2018-03-01 09:00:00</th>\n",
       "      <td>69</td>\n",
       "    </tr>\n",
       "  </tbody>\n",
       "</table>\n",
       "</div>"
      ],
      "text/plain": [
       "                     num_orders\n",
       "datetime                       \n",
       "2018-03-01 00:00:00         124\n",
       "2018-03-01 01:00:00          85\n",
       "2018-03-01 02:00:00          71\n",
       "2018-03-01 03:00:00          66\n",
       "2018-03-01 04:00:00          43\n",
       "2018-03-01 05:00:00           6\n",
       "2018-03-01 06:00:00          12\n",
       "2018-03-01 07:00:00          15\n",
       "2018-03-01 08:00:00          34\n",
       "2018-03-01 09:00:00          69"
      ]
     },
     "metadata": {},
     "output_type": "display_data"
    },
    {
     "name": "stdout",
     "output_type": "stream",
     "text": [
      "CPU times: user 8.57 ms, sys: 2.41 ms, total: 11 ms\n",
      "Wall time: 10.2 ms\n"
     ]
    }
   ],
   "source": [
    "%%time\n",
    "taxi_data = taxi_data.resample('1H').sum()\n",
    "display(taxi_data.head(10))"
   ]
  },
  {
   "cell_type": "markdown",
   "metadata": {},
   "source": [
    "<h2>EDA</h2>"
   ]
  },
  {
   "cell_type": "markdown",
   "metadata": {},
   "source": [
    "This code looks at a pairplot of the columns. It is a histogram skewed to the right."
   ]
  },
  {
   "cell_type": "code",
   "execution_count": 7,
   "metadata": {},
   "outputs": [
    {
     "name": "stdout",
     "output_type": "stream",
     "text": [
      "CPU times: user 75.2 ms, sys: 5.97 ms, total: 81.2 ms\n",
      "Wall time: 84.4 ms\n"
     ]
    },
    {
     "data": {
      "text/plain": [
       "<Axes: xlabel='datetime'>"
      ]
     },
     "execution_count": 7,
     "metadata": {},
     "output_type": "execute_result"
    },
    {
     "data": {
      "image/png": "[encoded data removed]",
      "text/plain": [
       "<Figure size 640x480 with 1 Axes>"
      ]
     },
     "metadata": {},
     "output_type": "display_data"
    }
   ],
   "source": [
    "%%time\n",
    "taxi_data.plot()\n"
   ]
  },
  {
   "cell_type": "code",
   "execution_count": 8,
   "metadata": {},
   "outputs": [
    {
     "name": "stdout",
     "output_type": "stream",
     "text": [
      "CPU times: user 58.3 ms, sys: 3.71 ms, total: 62 ms\n",
      "Wall time: 63.4 ms\n"
     ]
    },
    {
     "data": {
      "text/plain": [
       "<Axes: xlabel='datetime'>"
      ]
     },
     "execution_count": 8,
     "metadata": {},
     "output_type": "execute_result"
    },
    {
     "data": {
      "image/png": "[encoded data removed]",
      "text/plain": [
       "<Figure size 640x480 with 1 Axes>"
      ]
     },
     "metadata": {},
     "output_type": "display_data"
    }
   ],
   "source": [
    "%%time\n",
    "taxi_data['2018-01':'2018-06'].plot()"
   ]
  },
  {
   "cell_type": "code",
   "execution_count": 9,
   "metadata": {},
   "outputs": [
    {
     "name": "stdout",
     "output_type": "stream",
     "text": [
      "CPU times: user 75.1 ms, sys: 5.09 ms, total: 80.2 ms\n",
      "Wall time: 76.8 ms\n"
     ]
    },
    {
     "data": {
      "text/plain": [
       "<Axes: xlabel='datetime'>"
      ]
     },
     "execution_count": 9,
     "metadata": {},
     "output_type": "execute_result"
    },
    {
     "data": {
      "image/png": "[encoded data removed]",
      "text/plain": [
       "<Figure size 640x480 with 1 Axes>"
      ]
     },
     "metadata": {},
     "output_type": "display_data"
    }
   ],
   "source": [
    "%%time\n",
    "taxi_data['2018-07':'2018-12'].plot()"
   ]
  },
  {
   "cell_type": "code",
   "execution_count": 10,
   "metadata": {},
   "outputs": [
    {
     "name": "stdout",
     "output_type": "stream",
     "text": [
      "CPU times: user 46 ms, sys: 2.66 ms, total: 48.6 ms\n",
      "Wall time: 46.7 ms\n"
     ]
    },
    {
     "data": {
      "text/plain": [
       "<Axes: xlabel='datetime'>"
      ]
     },
     "execution_count": 10,
     "metadata": {},
     "output_type": "execute_result"
    },
    {
     "data": {
      "image/png": "[encoded data removed]",
      "text/plain": [
       "<Figure size 640x480 with 1 Axes>"
      ]
     },
     "metadata": {},
     "output_type": "display_data"
    }
   ],
   "source": [
    "%%time\n",
    "taxi_data['2018-01':'2018-03'].plot()"
   ]
  },
  {
   "cell_type": "code",
   "execution_count": 11,
   "metadata": {},
   "outputs": [
    {
     "name": "stdout",
     "output_type": "stream",
     "text": [
      "CPU times: user 102 ms, sys: 6.77 ms, total: 109 ms\n",
      "Wall time: 104 ms\n"
     ]
    },
    {
     "data": {
      "text/plain": [
       "<Axes: xlabel='datetime'>"
      ]
     },
     "execution_count": 11,
     "metadata": {},
     "output_type": "execute_result"
    },
    {
     "data": {
      "image/png": "[encoded data removed]",
      "text/plain": [
       "<Figure size 640x480 with 1 Axes>"
      ]
     },
     "metadata": {},
     "output_type": "display_data"
    }
   ],
   "source": [
    "%%time\n",
    "taxi_data['2018-04':'2018-06'].plot()"
   ]
  },
  {
   "cell_type": "code",
   "execution_count": 12,
   "metadata": {},
   "outputs": [
    {
     "name": "stdout",
     "output_type": "stream",
     "text": [
      "CPU times: user 69.7 ms, sys: 2.54 ms, total: 72.2 ms\n",
      "Wall time: 70.8 ms\n"
     ]
    },
    {
     "data": {
      "text/plain": [
       "<Axes: xlabel='datetime'>"
      ]
     },
     "execution_count": 12,
     "metadata": {},
     "output_type": "execute_result"
    },
    {
     "data": {
      "image/png": "[encoded data removed]",
      "text/plain": [
       "<Figure size 640x480 with 1 Axes>"
      ]
     },
     "metadata": {},
     "output_type": "display_data"
    }
   ],
   "source": [
    "%%time\n",
    "taxi_data['2018-07':'2018-09'].plot()"
   ]
  },
  {
   "cell_type": "markdown",
   "metadata": {},
   "source": [
    "<h2>Machine Learning Models</h2>"
   ]
  },
  {
   "cell_type": "markdown",
   "metadata": {},
   "source": [
    "This function creates features based on the datetime information for the forecast horizon"
   ]
  },
  {
   "cell_type": "code",
   "execution_count": 13,
   "metadata": {},
   "outputs": [
    {
     "name": "stdout",
     "output_type": "stream",
     "text": [
      "CPU times: user 3 µs, sys: 1e+03 ns, total: 4 µs\n",
      "Wall time: 5.96 µs\n"
     ]
    }
   ],
   "source": [
    "%%time\n",
    "def make_features(data, max_lag, rolling_mean_size):\n",
    "    data['month'] = data.index.month\n",
    "    data['day'] = data.index.day\n",
    "    data['dayofweek'] = data.index.dayofweek\n",
    "    data['hour'] = data.index.hour\n",
    "\n",
    "    for lag in range(1, max_lag + 1):\n",
    "        data['lag_{}'.format(lag)] = data['num_orders'].shift(lag)\n",
    "\n",
    "    data['rolling_mean'] = (\n",
    "        data['num_orders'].shift().rolling(rolling_mean_size).mean()\n",
    "    )\n",
    "    \n",
    "    return data"
   ]
  },
  {
   "cell_type": "code",
   "execution_count": 14,
   "metadata": {},
   "outputs": [
    {
     "name": "stdout",
     "output_type": "stream",
     "text": [
      "CPU times: user 6.26 ms, sys: 1.11 ms, total: 7.37 ms\n",
      "Wall time: 6.29 ms\n"
     ]
    },
    {
     "data": {
      "text/html": [
       "<div>\n",
       "<style scoped>\n",
       "    .dataframe tbody tr th:only-of-type {\n",
       "        vertical-align: middle;\n",
       "    }\n",
       "\n",
       "    .dataframe tbody tr th {\n",
       "        vertical-align: top;\n",
       "    }\n",
       "\n",
       "    .dataframe thead th {\n",
       "        text-align: right;\n",
       "    }\n",
       "</style>\n",
       "<table border=\"1\" class=\"dataframe\">\n",
       "  <thead>\n",
       "    <tr style=\"text-align: right;\">\n",
       "      <th></th>\n",
       "      <th>num_orders</th>\n",
       "      <th>month</th>\n",
       "      <th>day</th>\n",
       "      <th>dayofweek</th>\n",
       "      <th>hour</th>\n",
       "      <th>lag_1</th>\n",
       "      <th>lag_2</th>\n",
       "      <th>lag_3</th>\n",
       "      <th>lag_4</th>\n",
       "      <th>lag_5</th>\n",
       "      <th>lag_6</th>\n",
       "      <th>lag_7</th>\n",
       "      <th>lag_8</th>\n",
       "      <th>lag_9</th>\n",
       "      <th>lag_10</th>\n",
       "      <th>rolling_mean</th>\n",
       "    </tr>\n",
       "    <tr>\n",
       "      <th>datetime</th>\n",
       "      <th></th>\n",
       "      <th></th>\n",
       "      <th></th>\n",
       "      <th></th>\n",
       "      <th></th>\n",
       "      <th></th>\n",
       "      <th></th>\n",
       "      <th></th>\n",
       "      <th></th>\n",
       "      <th></th>\n",
       "      <th></th>\n",
       "      <th></th>\n",
       "      <th></th>\n",
       "      <th></th>\n",
       "      <th></th>\n",
       "      <th></th>\n",
       "    </tr>\n",
       "  </thead>\n",
       "  <tbody>\n",
       "    <tr>\n",
       "      <th>2018-03-01 00:00:00</th>\n",
       "      <td>124</td>\n",
       "      <td>3</td>\n",
       "      <td>1</td>\n",
       "      <td>3</td>\n",
       "      <td>0</td>\n",
       "      <td>NaN</td>\n",
       "      <td>NaN</td>\n",
       "      <td>NaN</td>\n",
       "      <td>NaN</td>\n",
       "      <td>NaN</td>\n",
       "      <td>NaN</td>\n",
       "      <td>NaN</td>\n",
       "      <td>NaN</td>\n",
       "      <td>NaN</td>\n",
       "      <td>NaN</td>\n",
       "      <td>NaN</td>\n",
       "    </tr>\n",
       "    <tr>\n",
       "      <th>2018-03-01 01:00:00</th>\n",
       "      <td>85</td>\n",
       "      <td>3</td>\n",
       "      <td>1</td>\n",
       "      <td>3</td>\n",
       "      <td>1</td>\n",
       "      <td>124.0</td>\n",
       "      <td>NaN</td>\n",
       "      <td>NaN</td>\n",
       "      <td>NaN</td>\n",
       "      <td>NaN</td>\n",
       "      <td>NaN</td>\n",
       "      <td>NaN</td>\n",
       "      <td>NaN</td>\n",
       "      <td>NaN</td>\n",
       "      <td>NaN</td>\n",
       "      <td>NaN</td>\n",
       "    </tr>\n",
       "    <tr>\n",
       "      <th>2018-03-01 02:00:00</th>\n",
       "      <td>71</td>\n",
       "      <td>3</td>\n",
       "      <td>1</td>\n",
       "      <td>3</td>\n",
       "      <td>2</td>\n",
       "      <td>85.0</td>\n",
       "      <td>124.0</td>\n",
       "      <td>NaN</td>\n",
       "      <td>NaN</td>\n",
       "      <td>NaN</td>\n",
       "      <td>NaN</td>\n",
       "      <td>NaN</td>\n",
       "      <td>NaN</td>\n",
       "      <td>NaN</td>\n",
       "      <td>NaN</td>\n",
       "      <td>NaN</td>\n",
       "    </tr>\n",
       "    <tr>\n",
       "      <th>2018-03-01 03:00:00</th>\n",
       "      <td>66</td>\n",
       "      <td>3</td>\n",
       "      <td>1</td>\n",
       "      <td>3</td>\n",
       "      <td>3</td>\n",
       "      <td>71.0</td>\n",
       "      <td>85.0</td>\n",
       "      <td>124.0</td>\n",
       "      <td>NaN</td>\n",
       "      <td>NaN</td>\n",
       "      <td>NaN</td>\n",
       "      <td>NaN</td>\n",
       "      <td>NaN</td>\n",
       "      <td>NaN</td>\n",
       "      <td>NaN</td>\n",
       "      <td>NaN</td>\n",
       "    </tr>\n",
       "    <tr>\n",
       "      <th>2018-03-01 04:00:00</th>\n",
       "      <td>43</td>\n",
       "      <td>3</td>\n",
       "      <td>1</td>\n",
       "      <td>3</td>\n",
       "      <td>4</td>\n",
       "      <td>66.0</td>\n",
       "      <td>71.0</td>\n",
       "      <td>85.0</td>\n",
       "      <td>124.0</td>\n",
       "      <td>NaN</td>\n",
       "      <td>NaN</td>\n",
       "      <td>NaN</td>\n",
       "      <td>NaN</td>\n",
       "      <td>NaN</td>\n",
       "      <td>NaN</td>\n",
       "      <td>NaN</td>\n",
       "    </tr>\n",
       "    <tr>\n",
       "      <th>...</th>\n",
       "      <td>...</td>\n",
       "      <td>...</td>\n",
       "      <td>...</td>\n",
       "      <td>...</td>\n",
       "      <td>...</td>\n",
       "      <td>...</td>\n",
       "      <td>...</td>\n",
       "      <td>...</td>\n",
       "      <td>...</td>\n",
       "      <td>...</td>\n",
       "      <td>...</td>\n",
       "      <td>...</td>\n",
       "      <td>...</td>\n",
       "      <td>...</td>\n",
       "      <td>...</td>\n",
       "      <td>...</td>\n",
       "    </tr>\n",
       "    <tr>\n",
       "      <th>2018-08-31 19:00:00</th>\n",
       "      <td>136</td>\n",
       "      <td>8</td>\n",
       "      <td>31</td>\n",
       "      <td>4</td>\n",
       "      <td>19</td>\n",
       "      <td>207.0</td>\n",
       "      <td>217.0</td>\n",
       "      <td>197.0</td>\n",
       "      <td>116.0</td>\n",
       "      <td>133.0</td>\n",
       "      <td>166.0</td>\n",
       "      <td>136.0</td>\n",
       "      <td>167.0</td>\n",
       "      <td>191.0</td>\n",
       "      <td>203.0</td>\n",
       "      <td>173.3</td>\n",
       "    </tr>\n",
       "    <tr>\n",
       "      <th>2018-08-31 20:00:00</th>\n",
       "      <td>154</td>\n",
       "      <td>8</td>\n",
       "      <td>31</td>\n",
       "      <td>4</td>\n",
       "      <td>20</td>\n",
       "      <td>136.0</td>\n",
       "      <td>207.0</td>\n",
       "      <td>217.0</td>\n",
       "      <td>197.0</td>\n",
       "      <td>116.0</td>\n",
       "      <td>133.0</td>\n",
       "      <td>166.0</td>\n",
       "      <td>136.0</td>\n",
       "      <td>167.0</td>\n",
       "      <td>191.0</td>\n",
       "      <td>166.6</td>\n",
       "    </tr>\n",
       "    <tr>\n",
       "      <th>2018-08-31 21:00:00</th>\n",
       "      <td>159</td>\n",
       "      <td>8</td>\n",
       "      <td>31</td>\n",
       "      <td>4</td>\n",
       "      <td>21</td>\n",
       "      <td>154.0</td>\n",
       "      <td>136.0</td>\n",
       "      <td>207.0</td>\n",
       "      <td>217.0</td>\n",
       "      <td>197.0</td>\n",
       "      <td>116.0</td>\n",
       "      <td>133.0</td>\n",
       "      <td>166.0</td>\n",
       "      <td>136.0</td>\n",
       "      <td>167.0</td>\n",
       "      <td>162.9</td>\n",
       "    </tr>\n",
       "    <tr>\n",
       "      <th>2018-08-31 22:00:00</th>\n",
       "      <td>223</td>\n",
       "      <td>8</td>\n",
       "      <td>31</td>\n",
       "      <td>4</td>\n",
       "      <td>22</td>\n",
       "      <td>159.0</td>\n",
       "      <td>154.0</td>\n",
       "      <td>136.0</td>\n",
       "      <td>207.0</td>\n",
       "      <td>217.0</td>\n",
       "      <td>197.0</td>\n",
       "      <td>116.0</td>\n",
       "      <td>133.0</td>\n",
       "      <td>166.0</td>\n",
       "      <td>136.0</td>\n",
       "      <td>162.1</td>\n",
       "    </tr>\n",
       "    <tr>\n",
       "      <th>2018-08-31 23:00:00</th>\n",
       "      <td>205</td>\n",
       "      <td>8</td>\n",
       "      <td>31</td>\n",
       "      <td>4</td>\n",
       "      <td>23</td>\n",
       "      <td>223.0</td>\n",
       "      <td>159.0</td>\n",
       "      <td>154.0</td>\n",
       "      <td>136.0</td>\n",
       "      <td>207.0</td>\n",
       "      <td>217.0</td>\n",
       "      <td>197.0</td>\n",
       "      <td>116.0</td>\n",
       "      <td>133.0</td>\n",
       "      <td>166.0</td>\n",
       "      <td>170.8</td>\n",
       "    </tr>\n",
       "  </tbody>\n",
       "</table>\n",
       "<p>4416 rows × 16 columns</p>\n",
       "</div>"
      ],
      "text/plain": [
       "                     num_orders  month  day  dayofweek  hour  lag_1  lag_2  \\\n",
       "datetime                                                                     \n",
       "2018-03-01 00:00:00         124      3    1          3     0    NaN    NaN   \n",
       "2018-03-01 01:00:00          85      3    1          3     1  124.0    NaN   \n",
       "2018-03-01 02:00:00          71      3    1          3     2   85.0  124.0   \n",
       "2018-03-01 03:00:00          66      3    1          3     3   71.0   85.0   \n",
       "2018-03-01 04:00:00          43      3    1          3     4   66.0   71.0   \n",
       "...                         ...    ...  ...        ...   ...    ...    ...   \n",
       "2018-08-31 19:00:00         136      8   31          4    19  207.0  217.0   \n",
       "2018-08-31 20:00:00         154      8   31          4    20  136.0  207.0   \n",
       "2018-08-31 21:00:00         159      8   31          4    21  154.0  136.0   \n",
       "2018-08-31 22:00:00         223      8   31          4    22  159.0  154.0   \n",
       "2018-08-31 23:00:00         205      8   31          4    23  223.0  159.0   \n",
       "\n",
       "                     lag_3  lag_4  lag_5  lag_6  lag_7  lag_8  lag_9  lag_10  \\\n",
       "datetime                                                                       \n",
       "2018-03-01 00:00:00    NaN    NaN    NaN    NaN    NaN    NaN    NaN     NaN   \n",
       "2018-03-01 01:00:00    NaN    NaN    NaN    NaN    NaN    NaN    NaN     NaN   \n",
       "2018-03-01 02:00:00    NaN    NaN    NaN    NaN    NaN    NaN    NaN     NaN   \n",
       "2018-03-01 03:00:00  124.0    NaN    NaN    NaN    NaN    NaN    NaN     NaN   \n",
       "2018-03-01 04:00:00   85.0  124.0    NaN    NaN    NaN    NaN    NaN     NaN   \n",
       "...                    ...    ...    ...    ...    ...    ...    ...     ...   \n",
       "2018-08-31 19:00:00  197.0  116.0  133.0  166.0  136.0  167.0  191.0   203.0   \n",
       "2018-08-31 20:00:00  217.0  197.0  116.0  133.0  166.0  136.0  167.0   191.0   \n",
       "2018-08-31 21:00:00  207.0  217.0  197.0  116.0  133.0  166.0  136.0   167.0   \n",
       "2018-08-31 22:00:00  136.0  207.0  217.0  197.0  116.0  133.0  166.0   136.0   \n",
       "2018-08-31 23:00:00  154.0  136.0  207.0  217.0  197.0  116.0  133.0   166.0   \n",
       "\n",
       "                     rolling_mean  \n",
       "datetime                           \n",
       "2018-03-01 00:00:00           NaN  \n",
       "2018-03-01 01:00:00           NaN  \n",
       "2018-03-01 02:00:00           NaN  \n",
       "2018-03-01 03:00:00           NaN  \n",
       "2018-03-01 04:00:00           NaN  \n",
       "...                           ...  \n",
       "2018-08-31 19:00:00         173.3  \n",
       "2018-08-31 20:00:00         166.6  \n",
       "2018-08-31 21:00:00         162.9  \n",
       "2018-08-31 22:00:00         162.1  \n",
       "2018-08-31 23:00:00         170.8  \n",
       "\n",
       "[4416 rows x 16 columns]"
      ]
     },
     "execution_count": 14,
     "metadata": {},
     "output_type": "execute_result"
    }
   ],
   "source": [
    "%%time\n",
    "make_features(taxi_data, 10, 10)\n"
   ]
  },
  {
   "cell_type": "markdown",
   "metadata": {},
   "source": [
    "This code drops the null values created by making the features."
   ]
  },
  {
   "cell_type": "code",
   "execution_count": 15,
   "metadata": {},
   "outputs": [
    {
     "name": "stdout",
     "output_type": "stream",
     "text": [
      "CPU times: user 2.91 ms, sys: 1.38 ms, total: 4.3 ms\n",
      "Wall time: 3.3 ms\n"
     ]
    }
   ],
   "source": [
    "%%time\n",
    "taxi_data = taxi_data.dropna()"
   ]
  },
  {
   "cell_type": "markdown",
   "metadata": {},
   "source": [
    "This code creates the categorical features and then encodes them, first using label encoding, then OHE for the XGBoost model."
   ]
  },
  {
   "cell_type": "code",
   "execution_count": 16,
   "metadata": {},
   "outputs": [
    {
     "name": "stdout",
     "output_type": "stream",
     "text": [
      "CPU times: user 3 µs, sys: 1 µs, total: 4 µs\n",
      "Wall time: 5.96 µs\n"
     ]
    }
   ],
   "source": [
    "%%time\n",
    "categorical_features = ['month', 'day', 'dayofweek', 'hour']"
   ]
  },
  {
   "cell_type": "code",
   "execution_count": 17,
   "metadata": {},
   "outputs": [
    {
     "name": "stdout",
     "output_type": "stream",
     "text": [
      "CPU times: user 6.87 ms, sys: 1.94 ms, total: 8.81 ms\n",
      "Wall time: 7.51 ms\n"
     ]
    }
   ],
   "source": [
    "%%time\n",
    "taxi_data_encoded = pd.get_dummies(taxi_data, columns=categorical_features)"
   ]
  },
  {
   "cell_type": "code",
   "execution_count": 18,
   "metadata": {},
   "outputs": [
    {
     "name": "stdout",
     "output_type": "stream",
     "text": [
      "CPU times: user 2.93 ms, sys: 1.33 ms, total: 4.26 ms\n",
      "Wall time: 3.09 ms\n"
     ]
    },
    {
     "name": "stderr",
     "output_type": "stream",
     "text": [
      "<timed exec>:4: SettingWithCopyWarning: \n",
      "A value is trying to be set on a copy of a slice from a DataFrame.\n",
      "Try using .loc[row_indexer,col_indexer] = value instead\n",
      "\n",
      "See the caveats in the documentation: https://pandas.pydata.org/pandas-docs/stable/user_guide/indexing.html#returning-a-view-versus-a-copy\n",
      "<timed exec>:4: SettingWithCopyWarning: \n",
      "A value is trying to be set on a copy of a slice from a DataFrame.\n",
      "Try using .loc[row_indexer,col_indexer] = value instead\n",
      "\n",
      "See the caveats in the documentation: https://pandas.pydata.org/pandas-docs/stable/user_guide/indexing.html#returning-a-view-versus-a-copy\n",
      "<timed exec>:4: SettingWithCopyWarning: \n",
      "A value is trying to be set on a copy of a slice from a DataFrame.\n",
      "Try using .loc[row_indexer,col_indexer] = value instead\n",
      "\n",
      "See the caveats in the documentation: https://pandas.pydata.org/pandas-docs/stable/user_guide/indexing.html#returning-a-view-versus-a-copy\n",
      "<timed exec>:4: SettingWithCopyWarning: \n",
      "A value is trying to be set on a copy of a slice from a DataFrame.\n",
      "Try using .loc[row_indexer,col_indexer] = value instead\n",
      "\n",
      "See the caveats in the documentation: https://pandas.pydata.org/pandas-docs/stable/user_guide/indexing.html#returning-a-view-versus-a-copy\n"
     ]
    }
   ],
   "source": [
    "%%time\n",
    "label_encoders = {}\n",
    "for col in categorical_features:\n",
    "    le = LabelEncoder()\n",
    "    taxi_data[col] = le.fit_transform(taxi_data[col])\n",
    "    label_encoders[col] = le"
   ]
  },
  {
   "cell_type": "markdown",
   "metadata": {},
   "source": [
    "This code splits the data into train, test, and validation sets."
   ]
  },
  {
   "cell_type": "code",
   "execution_count": 19,
   "metadata": {},
   "outputs": [],
   "source": [
    "X = taxi_data.drop(['num_orders'], axis=1)\n",
    "y=taxi_data['num_orders']\n",
    "\n",
    "X_train1, X_test, y_train1, y_test = train_test_split (X, y, test_size=0.10, random_state=54321, shuffle=False)\n",
    "X_train, X_valid, y_train, y_valid = train_test_split(X_train1, y_train1, test_size=0.11, random_state=54321, shuffle=False)"
   ]
  },
  {
   "cell_type": "code",
   "execution_count": 20,
   "metadata": {},
   "outputs": [],
   "source": [
    "X_encoded = taxi_data_encoded.drop(['num_orders'], axis=1)\n",
    "y_encoded=taxi_data_encoded['num_orders']\n",
    "\n",
    "X_encoded_train1, X_encoded_test, y_encoded_train1, y_encoded_test = train_test_split (X_encoded, y_encoded, test_size=0.10, random_state=54321, shuffle=False)\n",
    "X_encoded_train, X_encoded_valid, y_encoded_train, y_encoded_valid = train_test_split(X_encoded_train1, y_encoded_train1, test_size=0.11, random_state=54321, shuffle=False)"
   ]
  },
  {
   "cell_type": "markdown",
   "metadata": {},
   "source": [
    "This code creates a list of numeric features, then scales them."
   ]
  },
  {
   "cell_type": "code",
   "execution_count": 21,
   "metadata": {},
   "outputs": [],
   "source": [
    "numeric = ['lag_1', 'lag_2', 'lag_3', 'lag_4', 'lag_5', 'lag_6', 'lag_7', 'lag_8', 'lag_9', 'lag_10', 'rolling_mean']"
   ]
  },
  {
   "cell_type": "code",
   "execution_count": 22,
   "metadata": {},
   "outputs": [
    {
     "name": "stdout",
     "output_type": "stream",
     "text": [
      "CPU times: user 4 µs, sys: 0 ns, total: 4 µs\n",
      "Wall time: 7.87 µs\n"
     ]
    }
   ],
   "source": [
    "%%time\n",
    "def scaling(features_train, features_test, features_valid):\n",
    "    scaler = StandardScaler()\n",
    "    scaler.fit(features_train[numeric])\n",
    "    features_train[numeric] = scaler.transform(features_train[numeric])\n",
    "    features_test[numeric] = scaler.transform(features_test[numeric])\n",
    "    features_valid[numeric] = scaler.transform(features_valid[numeric])\n",
    "    return features_train, features_test, features_valid"
   ]
  },
  {
   "cell_type": "code",
   "execution_count": 23,
   "metadata": {},
   "outputs": [
    {
     "name": "stdout",
     "output_type": "stream",
     "text": [
      "CPU times: user 11 ms, sys: 1.57 ms, total: 12.6 ms\n",
      "Wall time: 11.5 ms\n"
     ]
    },
    {
     "data": {
      "text/plain": [
       "(                     month  day  dayofweek  hour     lag_1     lag_2  \\\n",
       " datetime                                                               \n",
       " 2018-03-01 10:00:00      0    0          3    10 -0.150228 -1.130114   \n",
       " 2018-03-01 11:00:00      0    0          3    11 -0.290293 -0.149836   \n",
       " 2018-03-01 12:00:00      0    0          3    12  0.606121 -0.289876   \n",
       " 2018-03-01 13:00:00      0    0          3    13 -1.242731  0.606378   \n",
       " 2018-03-01 14:00:00      0    0          3    14 -1.186706 -1.242146   \n",
       " ...                    ...  ...        ...   ...       ...       ...   \n",
       " 2018-07-26 05:00:00      4   25          3     5  1.586572  1.866735   \n",
       " 2018-07-26 06:00:00      4   25          3     6  0.241953  1.586656   \n",
       " 2018-07-26 07:00:00      4   25          3     7 -1.494848  0.242275   \n",
       " 2018-07-26 08:00:00      4   25          3     8 -0.990615 -1.494217   \n",
       " 2018-07-26 09:00:00      4   25          3     9  0.157914 -0.990074   \n",
       " \n",
       "                         lag_3     lag_4     lag_5     lag_6     lag_7  \\\n",
       " datetime                                                                \n",
       " 2018-03-01 10:00:00 -1.661654 -1.745384 -1.911783 -0.875918 -0.231659   \n",
       " 2018-03-01 11:00:00 -1.129638 -1.661391 -1.743883 -1.911559 -0.875749   \n",
       " 2018-03-01 12:00:00 -0.149608 -1.129436 -1.659933 -1.743617 -1.911894   \n",
       " 2018-03-01 13:00:00 -0.289612 -0.149519 -1.128249 -1.659646 -1.743871   \n",
       " 2018-03-01 14:00:00  0.606415 -0.289507 -0.148832 -1.127831 -1.659859   \n",
       " ...                       ...       ...       ...       ...       ...   \n",
       " 2018-07-26 05:00:00  3.434503 -0.037529  2.089836  1.783159  0.272411   \n",
       " 2018-07-26 06:00:00  1.866454  3.434177 -0.036899  2.091052  1.784623   \n",
       " 2018-07-26 07:00:00  1.586446  1.866310  3.433036 -0.036210  2.092666   \n",
       " 2018-07-26 08:00:00  0.242404  1.586334  1.865969  3.434586 -0.035632   \n",
       " 2018-07-26 09:00:00 -1.493649  0.242448  1.586135  1.867130  3.436854   \n",
       " \n",
       "                         lag_8     lag_9    lag_10  rolling_mean  \n",
       " datetime                                                         \n",
       " 2018-03-01 10:00:00 -0.090792  0.301822  1.396476     -1.063157  \n",
       " 2018-03-01 11:00:00 -0.231046 -0.090886  0.302125     -1.355782  \n",
       " 2018-03-01 12:00:00 -0.876217 -0.231139 -0.090719     -1.302134  \n",
       " 2018-03-01 13:00:00 -1.914100 -0.876301 -0.231020     -1.502095  \n",
       " 2018-03-01 14:00:00 -1.745795 -1.914171 -0.876407     -1.667916  \n",
       " ...                       ...       ...       ...           ...  \n",
       " 2018-07-26 05:00:00  1.003193  1.031136  1.761260      2.575147  \n",
       " 2018-07-26 06:00:00  0.273870  1.003085  1.031693      2.311785  \n",
       " 2018-07-26 07:00:00  1.788618  0.273771  1.003632      1.872847  \n",
       " 2018-07-26 08:00:00  2.097178  1.788500  0.274065      1.526574  \n",
       " 2018-07-26 09:00:00 -0.034690  2.097056  1.789320      1.507066  \n",
       " \n",
       " [3528 rows x 15 columns],\n",
       "                      month  day  dayofweek  hour     lag_1     lag_2  \\\n",
       " datetime                                                               \n",
       " 2018-08-13 15:00:00      5   12          0    15  0.774198  1.250561   \n",
       " 2018-08-13 16:00:00      5   12          0    16  2.819140  0.774426   \n",
       " 2018-08-13 17:00:00      5   12          0    17  1.950740  2.819005   \n",
       " 2018-08-13 18:00:00      5   12          0    18  2.174843  1.950759   \n",
       " 2018-08-13 19:00:00      5   12          0    19  0.830224  2.174823   \n",
       " ...                    ...  ...        ...   ...       ...       ...   \n",
       " 2018-08-31 19:00:00      5   30          4    19  3.715553  3.995338   \n",
       " 2018-08-31 20:00:00      5   30          4    20  1.726637  3.715259   \n",
       " 2018-08-31 21:00:00      5   30          4    21  2.230869  1.726696   \n",
       " 2018-08-31 22:00:00      5   30          4    22  2.370934  2.230838   \n",
       " 2018-08-31 23:00:00      5   30          4    23  4.163760  2.370878   \n",
       " \n",
       "                         lag_3     lag_4     lag_5     lag_6     lag_7  \\\n",
       " datetime                                                                \n",
       " 2018-08-13 15:00:00  0.494412  1.950303  2.285719  1.755169  0.468439   \n",
       " 2018-08-13 16:00:00  1.250435  0.494426  1.949919  2.286984  1.756619   \n",
       " 2018-08-13 17:00:00  0.774421  1.250362  0.494785  1.951101  2.288693   \n",
       " 2018-08-13 18:00:00  2.818484  0.774403  1.250335  0.495606  1.952646   \n",
       " 2018-08-13 19:00:00  1.950457  2.818229  0.774618  1.251344  0.496442   \n",
       " ...                       ...       ...       ...       ...       ...   \n",
       " 2018-08-31 19:00:00  3.434503  1.166369  1.642102  2.566887  1.728615   \n",
       " 2018-08-31 20:00:00  3.994520  3.434177  1.166385  1.643208  2.568732   \n",
       " 2018-08-31 21:00:00  3.714511  3.994129  3.433036  1.167373  1.644603   \n",
       " 2018-08-31 22:00:00  1.726450  3.714153  3.992703  3.434586  1.168536   \n",
       " 2018-08-31 23:00:00  2.230465  1.726322  3.712870  3.994392  3.436854   \n",
       " \n",
       "                         lag_8     lag_9    lag_10  rolling_mean  \n",
       " datetime                                                         \n",
       " 2018-08-13 15:00:00 -0.988420 -0.231139  0.246005      1.394893  \n",
       " 2018-08-13 16:00:00  0.470226 -0.988503 -0.231020      1.843585  \n",
       " 2018-08-13 17:00:00  1.760567  0.470125 -0.988648      2.223997  \n",
       " 2018-08-13 18:00:00  2.293534  1.760450  0.470487      2.775108  \n",
       " 2018-08-13 19:00:00  1.956924  2.293410  1.761260      2.838510  \n",
       " ...                       ...       ...       ...           ...  \n",
       " 2018-08-31 19:00:00  2.602094  3.275179  3.613238      4.828360  \n",
       " 2018-08-31 20:00:00  1.732516  2.601966  3.276515      4.501595  \n",
       " 2018-08-31 21:00:00  2.574043  1.732399  2.603068      4.321143  \n",
       " 2018-08-31 22:00:00  1.648364  2.573915  1.733200      4.282126  \n",
       " 2018-08-31 23:00:00  1.171499  1.648247  2.575008      4.706433  \n",
       " \n",
       " [441 rows x 15 columns],\n",
       "                      month  day  dayofweek  hour     lag_1     lag_2  \\\n",
       " datetime                                                               \n",
       " 2018-07-26 10:00:00      4   25          3    10  1.782663  0.158251   \n",
       " 2018-07-26 11:00:00      4   25          3    11  1.894714  1.782711   \n",
       " 2018-07-26 12:00:00      4   25          3    12  0.325991  1.894743   \n",
       " 2018-07-26 13:00:00      4   25          3    13  0.774198  0.326299   \n",
       " 2018-07-26 14:00:00      4   25          3    14 -0.122215  0.774426   \n",
       " ...                    ...  ...        ...   ...       ...       ...   \n",
       " 2018-08-13 10:00:00      5   12          0    10  1.754650  0.466338   \n",
       " 2018-08-13 11:00:00      5   12          0    11  2.286895  1.754704   \n",
       " 2018-08-13 12:00:00      5   12          0    12  1.950740  2.286854   \n",
       " 2018-08-13 13:00:00      5   12          0    13  0.494069  1.950759   \n",
       " 2018-08-13 14:00:00      5   12          0    14  1.250417  0.494346   \n",
       " \n",
       "                         lag_3     lag_4     lag_5     lag_6     lag_7  \\\n",
       " datetime                                                                \n",
       " 2018-07-26 10:00:00 -0.989634 -1.493405  0.242935  1.587227  1.868634   \n",
       " 2018-07-26 11:00:00  0.158402 -0.989448 -1.492033  0.243693  1.588595   \n",
       " 2018-07-26 12:00:00  1.782452  0.158455 -0.988332 -1.491705  0.244407   \n",
       " 2018-07-26 13:00:00  1.894455  1.782317  0.158985 -0.987879 -1.491836   \n",
       " 2018-07-26 14:00:00  0.326407  1.894307  1.782019  0.159722 -0.987765   \n",
       " ...                       ...       ...       ...       ...       ...   \n",
       " 2018-08-13 10:00:00 -0.989634 -0.233512  0.242935  1.923110  2.624740   \n",
       " 2018-08-13 11:00:00  0.466411 -0.989448 -0.232782  0.243693  1.924642   \n",
       " 2018-08-13 12:00:00  1.754451  0.466429 -0.988332 -0.232142  0.244407   \n",
       " 2018-08-13 13:00:00  2.286467  1.754319  0.466802 -0.987879 -0.231659   \n",
       " 2018-08-13 14:00:00  1.950457  2.286274  1.754035  0.467616 -0.987765   \n",
       " \n",
       "                          lag_8      lag_9     lag_10  rolling_mean  \n",
       " datetime                                                            \n",
       " 2018-07-26 10:00:00   3.443621  -0.034785   2.097983      1.507066  \n",
       " 2018-07-26 11:00:00   1.872771   3.443482  -0.034598      1.472926  \n",
       " 2018-07-26 12:00:00   1.592262   1.872652   3.444877      1.536328  \n",
       " 2018-07-26 13:00:00   0.245819   1.592146   1.873501      1.073005  \n",
       " 2018-07-26 14:00:00  -1.493336   0.245720   1.592898      0.726732  \n",
       " ...                        ...        ...        ...           ...  \n",
       " 2018-08-13 10:00:00  10.175836   5.575323   2.406646      4.165076  \n",
       " 2018-08-13 11:00:00   2.630145  10.175611   5.577458      4.145568  \n",
       " 2018-08-13 12:00:00   1.928873   2.630016  10.179344      3.516424  \n",
       " 2018-08-13 13:00:00   0.245819   1.928753   2.631129      1.833830  \n",
       " 2018-08-13 14:00:00  -0.231046   0.245720   1.929622      1.594853  \n",
       " \n",
       " [437 rows x 15 columns])"
      ]
     },
     "execution_count": 23,
     "metadata": {},
     "output_type": "execute_result"
    }
   ],
   "source": [
    "%%time\n",
    "scaling(X_train, X_test, X_valid)"
   ]
  },
  {
   "cell_type": "code",
   "execution_count": 24,
   "metadata": {},
   "outputs": [
    {
     "name": "stdout",
     "output_type": "stream",
     "text": [
      "CPU times: user 11.7 ms, sys: 1.5 ms, total: 13.2 ms\n",
      "Wall time: 14.5 ms\n"
     ]
    },
    {
     "data": {
      "text/plain": [
       "(                        lag_1     lag_2     lag_3     lag_4     lag_5  \\\n",
       " datetime                                                                \n",
       " 2018-03-01 10:00:00 -0.150228 -1.130114 -1.661654 -1.745384 -1.911783   \n",
       " 2018-03-01 11:00:00 -0.290293 -0.149836 -1.129638 -1.661391 -1.743883   \n",
       " 2018-03-01 12:00:00  0.606121 -0.289876 -0.149608 -1.129436 -1.659933   \n",
       " 2018-03-01 13:00:00 -1.242731  0.606378 -0.289612 -0.149519 -1.128249   \n",
       " 2018-03-01 14:00:00 -1.186706 -1.242146  0.606415 -0.289507 -0.148832   \n",
       " ...                       ...       ...       ...       ...       ...   \n",
       " 2018-07-26 05:00:00  1.586572  1.866735  3.434503 -0.037529  2.089836   \n",
       " 2018-07-26 06:00:00  0.241953  1.586656  1.866454  3.434177 -0.036899   \n",
       " 2018-07-26 07:00:00 -1.494848  0.242275  1.586446  1.866310  3.433036   \n",
       " 2018-07-26 08:00:00 -0.990615 -1.494217  0.242404  1.586334  1.865969   \n",
       " 2018-07-26 09:00:00  0.157914 -0.990074 -1.493649  0.242448  1.586135   \n",
       " \n",
       "                         lag_6     lag_7     lag_8     lag_9    lag_10  ...  \\\n",
       " datetime                                                               ...   \n",
       " 2018-03-01 10:00:00 -0.875918 -0.231659 -0.090792  0.301822  1.396476  ...   \n",
       " 2018-03-01 11:00:00 -1.911559 -0.875749 -0.231046 -0.090886  0.302125  ...   \n",
       " 2018-03-01 12:00:00 -1.743617 -1.911894 -0.876217 -0.231139 -0.090719  ...   \n",
       " 2018-03-01 13:00:00 -1.659646 -1.743871 -1.914100 -0.876301 -0.231020  ...   \n",
       " 2018-03-01 14:00:00 -1.127831 -1.659859 -1.745795 -1.914171 -0.876407  ...   \n",
       " ...                       ...       ...       ...       ...       ...  ...   \n",
       " 2018-07-26 05:00:00  1.783159  0.272411  1.003193  1.031136  1.761260  ...   \n",
       " 2018-07-26 06:00:00  2.091052  1.784623  0.273870  1.003085  1.031693  ...   \n",
       " 2018-07-26 07:00:00 -0.036210  2.092666  1.788618  0.273771  1.003632  ...   \n",
       " 2018-07-26 08:00:00  3.434586 -0.035632  2.097178  1.788500  0.274065  ...   \n",
       " 2018-07-26 09:00:00  1.867130  3.436854 -0.034690  2.097056  1.789320  ...   \n",
       " \n",
       "                      hour_14  hour_15  hour_16  hour_17  hour_18  hour_19  \\\n",
       " datetime                                                                    \n",
       " 2018-03-01 10:00:00    False    False    False    False    False    False   \n",
       " 2018-03-01 11:00:00    False    False    False    False    False    False   \n",
       " 2018-03-01 12:00:00    False    False    False    False    False    False   \n",
       " 2018-03-01 13:00:00    False    False    False    False    False    False   \n",
       " 2018-03-01 14:00:00     True    False    False    False    False    False   \n",
       " ...                      ...      ...      ...      ...      ...      ...   \n",
       " 2018-07-26 05:00:00    False    False    False    False    False    False   \n",
       " 2018-07-26 06:00:00    False    False    False    False    False    False   \n",
       " 2018-07-26 07:00:00    False    False    False    False    False    False   \n",
       " 2018-07-26 08:00:00    False    False    False    False    False    False   \n",
       " 2018-07-26 09:00:00    False    False    False    False    False    False   \n",
       " \n",
       "                      hour_20  hour_21  hour_22  hour_23  \n",
       " datetime                                                 \n",
       " 2018-03-01 10:00:00    False    False    False    False  \n",
       " 2018-03-01 11:00:00    False    False    False    False  \n",
       " 2018-03-01 12:00:00    False    False    False    False  \n",
       " 2018-03-01 13:00:00    False    False    False    False  \n",
       " 2018-03-01 14:00:00    False    False    False    False  \n",
       " ...                      ...      ...      ...      ...  \n",
       " 2018-07-26 05:00:00    False    False    False    False  \n",
       " 2018-07-26 06:00:00    False    False    False    False  \n",
       " 2018-07-26 07:00:00    False    False    False    False  \n",
       " 2018-07-26 08:00:00    False    False    False    False  \n",
       " 2018-07-26 09:00:00    False    False    False    False  \n",
       " \n",
       " [3528 rows x 79 columns],\n",
       "                         lag_1     lag_2     lag_3     lag_4     lag_5  \\\n",
       " datetime                                                                \n",
       " 2018-08-13 15:00:00  0.774198  1.250561  0.494412  1.950303  2.285719   \n",
       " 2018-08-13 16:00:00  2.819140  0.774426  1.250435  0.494426  1.949919   \n",
       " 2018-08-13 17:00:00  1.950740  2.819005  0.774421  1.250362  0.494785   \n",
       " 2018-08-13 18:00:00  2.174843  1.950759  2.818484  0.774403  1.250335   \n",
       " 2018-08-13 19:00:00  0.830224  2.174823  1.950457  2.818229  0.774618   \n",
       " ...                       ...       ...       ...       ...       ...   \n",
       " 2018-08-31 19:00:00  3.715553  3.995338  3.434503  1.166369  1.642102   \n",
       " 2018-08-31 20:00:00  1.726637  3.715259  3.994520  3.434177  1.166385   \n",
       " 2018-08-31 21:00:00  2.230869  1.726696  3.714511  3.994129  3.433036   \n",
       " 2018-08-31 22:00:00  2.370934  2.230838  1.726450  3.714153  3.992703   \n",
       " 2018-08-31 23:00:00  4.163760  2.370878  2.230465  1.726322  3.712870   \n",
       " \n",
       "                         lag_6     lag_7     lag_8     lag_9    lag_10  ...  \\\n",
       " datetime                                                               ...   \n",
       " 2018-08-13 15:00:00  1.755169  0.468439 -0.988420 -0.231139  0.246005  ...   \n",
       " 2018-08-13 16:00:00  2.286984  1.756619  0.470226 -0.988503 -0.231020  ...   \n",
       " 2018-08-13 17:00:00  1.951101  2.288693  1.760567  0.470125 -0.988648  ...   \n",
       " 2018-08-13 18:00:00  0.495606  1.952646  2.293534  1.760450  0.470487  ...   \n",
       " 2018-08-13 19:00:00  1.251344  0.496442  1.956924  2.293410  1.761260  ...   \n",
       " ...                       ...       ...       ...       ...       ...  ...   \n",
       " 2018-08-31 19:00:00  2.566887  1.728615  2.602094  3.275179  3.613238  ...   \n",
       " 2018-08-31 20:00:00  1.643208  2.568732  1.732516  2.601966  3.276515  ...   \n",
       " 2018-08-31 21:00:00  1.167373  1.644603  2.574043  1.732399  2.603068  ...   \n",
       " 2018-08-31 22:00:00  3.434586  1.168536  1.648364  2.573915  1.733200  ...   \n",
       " 2018-08-31 23:00:00  3.994392  3.436854  1.171499  1.648247  2.575008  ...   \n",
       " \n",
       "                      hour_14  hour_15  hour_16  hour_17  hour_18  hour_19  \\\n",
       " datetime                                                                    \n",
       " 2018-08-13 15:00:00    False     True    False    False    False    False   \n",
       " 2018-08-13 16:00:00    False    False     True    False    False    False   \n",
       " 2018-08-13 17:00:00    False    False    False     True    False    False   \n",
       " 2018-08-13 18:00:00    False    False    False    False     True    False   \n",
       " 2018-08-13 19:00:00    False    False    False    False    False     True   \n",
       " ...                      ...      ...      ...      ...      ...      ...   \n",
       " 2018-08-31 19:00:00    False    False    False    False    False     True   \n",
       " 2018-08-31 20:00:00    False    False    False    False    False    False   \n",
       " 2018-08-31 21:00:00    False    False    False    False    False    False   \n",
       " 2018-08-31 22:00:00    False    False    False    False    False    False   \n",
       " 2018-08-31 23:00:00    False    False    False    False    False    False   \n",
       " \n",
       "                      hour_20  hour_21  hour_22  hour_23  \n",
       " datetime                                                 \n",
       " 2018-08-13 15:00:00    False    False    False    False  \n",
       " 2018-08-13 16:00:00    False    False    False    False  \n",
       " 2018-08-13 17:00:00    False    False    False    False  \n",
       " 2018-08-13 18:00:00    False    False    False    False  \n",
       " 2018-08-13 19:00:00    False    False    False    False  \n",
       " ...                      ...      ...      ...      ...  \n",
       " 2018-08-31 19:00:00    False    False    False    False  \n",
       " 2018-08-31 20:00:00     True    False    False    False  \n",
       " 2018-08-31 21:00:00    False     True    False    False  \n",
       " 2018-08-31 22:00:00    False    False     True    False  \n",
       " 2018-08-31 23:00:00    False    False    False     True  \n",
       " \n",
       " [441 rows x 79 columns],\n",
       "                         lag_1     lag_2     lag_3     lag_4     lag_5  \\\n",
       " datetime                                                                \n",
       " 2018-07-26 10:00:00  1.782663  0.158251 -0.989634 -1.493405  0.242935   \n",
       " 2018-07-26 11:00:00  1.894714  1.782711  0.158402 -0.989448 -1.492033   \n",
       " 2018-07-26 12:00:00  0.325991  1.894743  1.782452  0.158455 -0.988332   \n",
       " 2018-07-26 13:00:00  0.774198  0.326299  1.894455  1.782317  0.158985   \n",
       " 2018-07-26 14:00:00 -0.122215  0.774426  0.326407  1.894307  1.782019   \n",
       " ...                       ...       ...       ...       ...       ...   \n",
       " 2018-08-13 10:00:00  1.754650  0.466338 -0.989634 -0.233512  0.242935   \n",
       " 2018-08-13 11:00:00  2.286895  1.754704  0.466411 -0.989448 -0.232782   \n",
       " 2018-08-13 12:00:00  1.950740  2.286854  1.754451  0.466429 -0.988332   \n",
       " 2018-08-13 13:00:00  0.494069  1.950759  2.286467  1.754319  0.466802   \n",
       " 2018-08-13 14:00:00  1.250417  0.494346  1.950457  2.286274  1.754035   \n",
       " \n",
       "                         lag_6     lag_7      lag_8      lag_9     lag_10  ...  \\\n",
       " datetime                                                                  ...   \n",
       " 2018-07-26 10:00:00  1.587227  1.868634   3.443621  -0.034785   2.097983  ...   \n",
       " 2018-07-26 11:00:00  0.243693  1.588595   1.872771   3.443482  -0.034598  ...   \n",
       " 2018-07-26 12:00:00 -1.491705  0.244407   1.592262   1.872652   3.444877  ...   \n",
       " 2018-07-26 13:00:00 -0.987879 -1.491836   0.245819   1.592146   1.873501  ...   \n",
       " 2018-07-26 14:00:00  0.159722 -0.987765  -1.493336   0.245720   1.592898  ...   \n",
       " ...                       ...       ...        ...        ...        ...  ...   \n",
       " 2018-08-13 10:00:00  1.923110  2.624740  10.175836   5.575323   2.406646  ...   \n",
       " 2018-08-13 11:00:00  0.243693  1.924642   2.630145  10.175611   5.577458  ...   \n",
       " 2018-08-13 12:00:00 -0.232142  0.244407   1.928873   2.630016  10.179344  ...   \n",
       " 2018-08-13 13:00:00 -0.987879 -0.231659   0.245819   1.928753   2.631129  ...   \n",
       " 2018-08-13 14:00:00  0.467616 -0.987765  -0.231046   0.245720   1.929622  ...   \n",
       " \n",
       "                      hour_14  hour_15  hour_16  hour_17  hour_18  hour_19  \\\n",
       " datetime                                                                    \n",
       " 2018-07-26 10:00:00    False    False    False    False    False    False   \n",
       " 2018-07-26 11:00:00    False    False    False    False    False    False   \n",
       " 2018-07-26 12:00:00    False    False    False    False    False    False   \n",
       " 2018-07-26 13:00:00    False    False    False    False    False    False   \n",
       " 2018-07-26 14:00:00     True    False    False    False    False    False   \n",
       " ...                      ...      ...      ...      ...      ...      ...   \n",
       " 2018-08-13 10:00:00    False    False    False    False    False    False   \n",
       " 2018-08-13 11:00:00    False    False    False    False    False    False   \n",
       " 2018-08-13 12:00:00    False    False    False    False    False    False   \n",
       " 2018-08-13 13:00:00    False    False    False    False    False    False   \n",
       " 2018-08-13 14:00:00     True    False    False    False    False    False   \n",
       " \n",
       "                      hour_20  hour_21  hour_22  hour_23  \n",
       " datetime                                                 \n",
       " 2018-07-26 10:00:00    False    False    False    False  \n",
       " 2018-07-26 11:00:00    False    False    False    False  \n",
       " 2018-07-26 12:00:00    False    False    False    False  \n",
       " 2018-07-26 13:00:00    False    False    False    False  \n",
       " 2018-07-26 14:00:00    False    False    False    False  \n",
       " ...                      ...      ...      ...      ...  \n",
       " 2018-08-13 10:00:00    False    False    False    False  \n",
       " 2018-08-13 11:00:00    False    False    False    False  \n",
       " 2018-08-13 12:00:00    False    False    False    False  \n",
       " 2018-08-13 13:00:00    False    False    False    False  \n",
       " 2018-08-13 14:00:00    False    False    False    False  \n",
       " \n",
       " [437 rows x 79 columns])"
      ]
     },
     "execution_count": 24,
     "metadata": {},
     "output_type": "execute_result"
    }
   ],
   "source": [
    "%%time\n",
    "scaling(X_encoded_train, X_encoded_test, X_encoded_valid)"
   ]
  },
  {
   "cell_type": "markdown",
   "metadata": {},
   "source": [
    "This function calculates the RMSE to be used in all the models."
   ]
  },
  {
   "cell_type": "code",
   "execution_count": 25,
   "metadata": {},
   "outputs": [
    {
     "name": "stdout",
     "output_type": "stream",
     "text": [
      "CPU times: user 3 µs, sys: 1 µs, total: 4 µs\n",
      "Wall time: 6.2 µs\n"
     ]
    }
   ],
   "source": [
    "%%time\n",
    "def rmse(y_true, y_pred):\n",
    "    return(mean_squared_error(y_true, y_pred, squared=False))"
   ]
  },
  {
   "cell_type": "markdown",
   "metadata": {},
   "source": [
    "This function creates a dummy model for comparison to the rest of the models."
   ]
  },
  {
   "cell_type": "code",
   "execution_count": 26,
   "metadata": {},
   "outputs": [
    {
     "name": "stdout",
     "output_type": "stream",
     "text": [
      "CPU times: user 3 µs, sys: 1 µs, total: 4 µs\n",
      "Wall time: 6.2 µs\n"
     ]
    }
   ],
   "source": [
    "%%time\n",
    "def dummy(features_train, target_train, features_valid, target_valid):\n",
    "    dummy_regress = DummyRegressor(strategy='mean')\n",
    "    dummy_regress.fit(features_train, target_train)\n",
    "    predict_score = dummy_regress.predict(features_valid)\n",
    "    dummy_score = rmse(predict_score, target_valid)\n",
    "    print(dummy_score)\n",
    "    return"
   ]
  },
  {
   "cell_type": "code",
   "execution_count": 27,
   "metadata": {},
   "outputs": [
    {
     "name": "stdout",
     "output_type": "stream",
     "text": [
      "58.31056137667172\n",
      "CPU times: user 1.18 ms, sys: 528 µs, total: 1.71 ms\n",
      "Wall time: 1.28 ms\n"
     ]
    }
   ],
   "source": [
    "%%time\n",
    "dummy(X_train, y_train, X_valid, y_valid)"
   ]
  },
  {
   "cell_type": "code",
   "execution_count": 28,
   "metadata": {},
   "outputs": [
    {
     "name": "stdout",
     "output_type": "stream",
     "text": [
      "58.31056137667172\n",
      "CPU times: user 1.24 ms, sys: 460 µs, total: 1.7 ms\n",
      "Wall time: 1.37 ms\n"
     ]
    }
   ],
   "source": [
    "%%time\n",
    "dummy(X_encoded_train, y_encoded_train, X_encoded_valid, y_encoded_valid)"
   ]
  },
  {
   "cell_type": "markdown",
   "metadata": {},
   "source": [
    "These are the functions to train the six different models: three gradient models and three non-gradient models."
   ]
  },
  {
   "cell_type": "code",
   "execution_count": 29,
   "metadata": {},
   "outputs": [
    {
     "name": "stdout",
     "output_type": "stream",
     "text": [
      "CPU times: user 4 µs, sys: 1 µs, total: 5 µs\n",
      "Wall time: 7.15 µs\n"
     ]
    }
   ],
   "source": [
    "%%time\n",
    "def train_decision_model(features_train, target_train, features_valid, target_valid, a, b):\n",
    "\n",
    "    best_decision_rmse = 0\n",
    "    best_depth = 0\n",
    "\n",
    "    for depth in range(a,b):\n",
    "        decision_model = DecisionTreeRegressor(random_state=54321, max_depth=depth)\n",
    "        decision_model.fit(features_train, target_train)\n",
    "        predictions = decision_model.predict(features_valid)\n",
    "        decision_score = rmse(target_valid, predictions)\n",
    "        print('The RMSE for', depth, 'is', decision_score) \n",
    "          \n",
    "        if best_decision_rmse == 0:\n",
    "            best_decision_rmse = decision_score\n",
    "            best_depth = depth\n",
    "        if decision_score < best_decision_rmse:\n",
    "            best_decision_rmse = decision_score\n",
    "            best_depth = depth\n",
    "                            \n",
    "    final_decision_model = DecisionTreeRegressor(random_state=54321, max_depth=best_depth)\n",
    "    final_decision_model.fit(features_train, target_train)\n",
    "    final_predictions = final_decision_model.predict(features_valid)\n",
    "    final_decision_score = rmse(target_valid, final_predictions)\n",
    "    print('The final RMSE for', best_depth, 'is', final_decision_score) \n",
    "    \n",
    "    return final_decision_score\n"
   ]
  },
  {
   "cell_type": "code",
   "execution_count": 30,
   "metadata": {},
   "outputs": [
    {
     "name": "stdout",
     "output_type": "stream",
     "text": [
      "CPU times: user 3 µs, sys: 1 µs, total: 4 µs\n",
      "Wall time: 5.96 µs\n"
     ]
    }
   ],
   "source": [
    "%%time\n",
    "def train_random_model(features_train, target_train, features_valid, target_valid, a, b):\n",
    "\n",
    "    best_random_rmse = 0\n",
    "    best_est = 0\n",
    "\n",
    "    for est in range(a,b):\n",
    "        random_model = RandomForestRegressor(random_state=54321, n_estimators=est)\n",
    "        random_model.fit(features_train, target_train)\n",
    "        predictions = random_model.predict(features_valid)\n",
    "        random_score = rmse(target_valid, predictions)\n",
    "        print('The RMSE for', est, 'is', random_score) \n",
    "  \n",
    "        if best_random_rmse == 0:\n",
    "            best_random_rmse = random_score\n",
    "            best_est = est\n",
    "        if random_score < best_random_rmse:\n",
    "            best_random_rmse = random_score\n",
    "            best_est = est\n",
    "            \n",
    "\n",
    "    final_random_model = RandomForestRegressor(random_state=54321, n_estimators=best_est)\n",
    "    final_random_model.fit(features_train, target_train)\n",
    "    final_predictions = final_random_model.predict(features_valid)\n",
    "    final_random_score = rmse(target_valid, final_predictions)\n",
    "    print('The final RMSE for', best_est, 'is', final_random_score) \n",
    "    print(final_random_score)\n",
    "\n",
    "    return final_random_score"
   ]
  },
  {
   "cell_type": "code",
   "execution_count": 31,
   "metadata": {},
   "outputs": [
    {
     "name": "stdout",
     "output_type": "stream",
     "text": [
      "CPU times: user 3 µs, sys: 1 µs, total: 4 µs\n",
      "Wall time: 5.96 µs\n"
     ]
    }
   ],
   "source": [
    "%%time\n",
    "def train_linear_model(features_train, target_train, features_valid, target_valid):\n",
    "    linear_model = LinearRegression()\n",
    "    linear_model.fit(features_train, target_train)\n",
    "    predictions = linear_model.predict(features_valid)\n",
    "    linear_score = rmse(target_valid, predictions)\n",
    "    print('The RMSE for the linear model is', linear_score) \n",
    "    return linear_score"
   ]
  },
  {
   "cell_type": "code",
   "execution_count": 32,
   "metadata": {},
   "outputs": [
    {
     "name": "stdout",
     "output_type": "stream",
     "text": [
      "CPU times: user 3 µs, sys: 1 µs, total: 4 µs\n",
      "Wall time: 6.91 µs\n"
     ]
    }
   ],
   "source": [
    "%%time\n",
    "def lgbm(features_train, target_train, features_valid, target_valid, a, b):\n",
    "\n",
    "    best_lgbm_rmse = 0\n",
    "    best_est = 0\n",
    "\n",
    "    for est in range(a,b):\n",
    "        lgbm_model = LGBMRegressor(num_leaves=30, max_depth=20, n_estimators=est, random_state=54321)\n",
    "        lgbm_model.fit(features_train, target_train)\n",
    "        predictions = lgbm_model.predict(features_valid)\n",
    "        lgbm_score = rmse(target_valid, predictions)\n",
    "        print('The RMSE for', est, 'is', lgbm_score) \n",
    "  \n",
    "        if best_lgbm_rmse == 0:\n",
    "            best_lgbm_rmse = lgbm_score\n",
    "            best_est = est\n",
    "        if lgbm_score < best_lgbm_rmse:\n",
    "            best_lgbm_rmse = lgbm_score\n",
    "            best_est = est\n",
    "            \n",
    "\n",
    "    final_lgbm_model = LGBMRegressor(num_leaves=30, max_depth=20, n_estimators=best_est, random_state=54321)\n",
    "    final_lgbm_model.fit(features_train, target_train)\n",
    "    final_predictions = final_lgbm_model.predict(features_valid)\n",
    "    final_lgbm_score = rmse(target_valid, final_predictions)\n",
    "    print('The final RMSE for', best_est, 'is', final_lgbm_score) \n",
    "    return final_lgbm_score"
   ]
  },
  {
   "cell_type": "code",
   "execution_count": 33,
   "metadata": {},
   "outputs": [
    {
     "name": "stdout",
     "output_type": "stream",
     "text": [
      "CPU times: user 4 µs, sys: 1e+03 ns, total: 5 µs\n",
      "Wall time: 6.91 µs\n"
     ]
    }
   ],
   "source": [
    "%%time\n",
    "def cat(features_train, target_train, features_valid, target_valid, a, b):\n",
    "\n",
    "    best_cat_rmse = 0\n",
    "    best_its = 0\n",
    "\n",
    "    for its in range(a,b):\n",
    "        cat_model = CatBoostRegressor(loss_function=\"RMSE\", iterations=its, random_seed=54321)\n",
    "        cat_model.fit(features_train, target_train, cat_features=categorical_features, verbose=10)\n",
    "\n",
    "        cat_predictions = cat_model.predict(features_valid)\n",
    "        cat_rmse = rmse(target_valid, cat_predictions)\n",
    "        print('The RMSE for', its, 'is', cat_rmse) \n",
    "  \n",
    "        if best_cat_rmse == 0:\n",
    "            best_cat_rmse = cat_rmse\n",
    "            best_its = its\n",
    "        if cat_rmse < best_cat_rmse:\n",
    "            best_cat_rmse = cat_rmse\n",
    "            best_its = its\n",
    "            \n",
    "\n",
    "    final_cat_model = CatBoostRegressor(loss_function='RMSE', iterations=best_its, random_seed=54321)\n",
    "    final_cat_model.fit(features_train, target_train, cat_features=categorical_features, verbose=10)\n",
    "    final_cat_predictions = final_cat_model.predict(features_valid)\n",
    "    final_cat_score = rmse(target_valid, final_cat_predictions)\n",
    "    print('The final RMSE for', best_its, 'is', final_cat_score) \n",
    "    return final_cat_score"
   ]
  },
  {
   "cell_type": "code",
   "execution_count": 34,
   "metadata": {},
   "outputs": [
    {
     "name": "stdout",
     "output_type": "stream",
     "text": [
      "CPU times: user 4 µs, sys: 0 ns, total: 4 µs\n",
      "Wall time: 6.91 µs\n"
     ]
    }
   ],
   "source": [
    "%%time\n",
    "def xgb(features_train, target_train, features_test, target_test, a, b):\n",
    "\n",
    "    best_xgb_rmse = 0\n",
    "    best_est = 0\n",
    "\n",
    "    for est in range(a,b):\n",
    "        xgb_model = XGBRegressor(objective='reg:squarederror', n_estimators=est, random_state=42)\n",
    "        xgb_model.fit(features_train, target_train)\n",
    "        predictions = xgb_model.predict(features_test)\n",
    "        xgb_rmse = rmse(target_test, predictions)\n",
    "        print('The RMSE for', est, 'is', xgb_rmse) \n",
    "  \n",
    "        if best_xgb_rmse == 0:\n",
    "            best_xgb_rmse = xgb_rmse\n",
    "            best_est = est\n",
    "        if xgb_rmse < best_xgb_rmse:\n",
    "            best_xgb_rmse = xgb_rmse\n",
    "            best_est = est\n",
    "            \n",
    "\n",
    "    final_xgb_model = XGBRegressor(objective='reg:squarederror', n_estimators=best_est, random_state=42)\n",
    "    final_xgb_model.fit(features_train, target_train)\n",
    "    final_xgb_predictions = final_xgb_model.predict(features_test)\n",
    "    final_xgb_score = rmse(target_test, final_xgb_predictions)\n",
    "    print('The final RMSE for', best_est, 'is', final_xgb_score)\n",
    "\n",
    "    return\n",
    "\n"
   ]
  },
  {
   "cell_type": "markdown",
   "metadata": {},
   "source": [
    "Of all the functions, the LightGBM model works the best so I have chosen this model to work with going forward."
   ]
  },
  {
   "cell_type": "code",
   "execution_count": 35,
   "metadata": {},
   "outputs": [
    {
     "name": "stdout",
     "output_type": "stream",
     "text": [
      "The RMSE for 1 is 51.490604157913936\n",
      "The RMSE for 2 is 49.430607435957754\n",
      "The RMSE for 3 is 44.78605715662806\n",
      "The RMSE for 4 is 43.50278813794824\n",
      "The RMSE for 5 is 41.25142611388927\n",
      "The RMSE for 6 is 38.05432717369071\n",
      "The RMSE for 7 is 36.26005377206119\n",
      "The RMSE for 8 is 35.50711736632408\n",
      "The RMSE for 9 is 35.79325661438708\n",
      "The RMSE for 10 is 36.64371546640088\n",
      "The final RMSE for 8 is 35.50711736632408\n",
      "CPU times: user 174 ms, sys: 3.41 ms, total: 178 ms\n",
      "Wall time: 174 ms\n"
     ]
    }
   ],
   "source": [
    "%%time\n",
    "taxi_decision_RMSE = train_decision_model(X_train, y_train, X_valid, y_valid, 1, 11)\n"
   ]
  },
  {
   "cell_type": "code",
   "execution_count": 36,
   "metadata": {},
   "outputs": [
    {
     "name": "stdout",
     "output_type": "stream",
     "text": [
      "The RMSE for 50 is 32.413335462267284\n",
      "The RMSE for 51 is 32.41594774975895\n",
      "The RMSE for 52 is 32.404728096738815\n",
      "The RMSE for 53 is 32.40977977170363\n",
      "The RMSE for 54 is 32.4470519802557\n",
      "The RMSE for 55 is 32.453504833561446\n",
      "The RMSE for 56 is 32.42897434091634\n",
      "The RMSE for 57 is 32.38340109099303\n",
      "The RMSE for 58 is 32.35918136194008\n",
      "The RMSE for 59 is 32.36955426371739\n",
      "The RMSE for 60 is 32.391110433075916\n",
      "The final RMSE for 58 is 32.35918136194008\n",
      "32.35918136194008\n",
      "CPU times: user 14.2 s, sys: 134 ms, total: 14.3 s\n",
      "Wall time: 14.4 s\n"
     ]
    }
   ],
   "source": [
    "%%time\n",
    "taxi_random_RMSE = train_random_model(X_train, y_train, X_valid, y_valid, 50, 61)\n"
   ]
  },
  {
   "cell_type": "code",
   "execution_count": 37,
   "metadata": {},
   "outputs": [
    {
     "name": "stdout",
     "output_type": "stream",
     "text": [
      "The RMSE for the linear model is 40.430501083467426\n",
      "CPU times: user 19.2 ms, sys: 3.31 ms, total: 22.5 ms\n",
      "Wall time: 7.34 ms\n"
     ]
    }
   ],
   "source": [
    "%%time\n",
    "car_linear_RMSE = train_linear_model(X_train, y_train, X_valid, y_valid)"
   ]
  },
  {
   "cell_type": "code",
   "execution_count": 38,
   "metadata": {},
   "outputs": [
    {
     "name": "stdout",
     "output_type": "stream",
     "text": [
      "The RMSE for 80 is 31.721162840776724\n",
      "The RMSE for 81 is 31.738311171507696\n",
      "The RMSE for 82 is 31.75841443938166\n",
      "The RMSE for 83 is 31.786798073420858\n",
      "The RMSE for 84 is 31.76514661309912\n",
      "The RMSE for 85 is 31.77542508976114\n",
      "The RMSE for 86 is 31.787424423443575\n",
      "The RMSE for 87 is 31.7732264013554\n",
      "The RMSE for 88 is 31.79770276195952\n",
      "The RMSE for 89 is 31.841574982793947\n",
      "The RMSE for 90 is 31.8458833146521\n",
      "The final RMSE for 80 is 31.721162840776724\n",
      "CPU times: user 7.39 s, sys: 174 ms, total: 7.56 s\n",
      "Wall time: 668 ms\n"
     ]
    },
    {
     "data": {
      "text/plain": [
       "31.721162840776724"
      ]
     },
     "execution_count": 38,
     "metadata": {},
     "output_type": "execute_result"
    }
   ],
   "source": [
    "%%time\n",
    "lgbm(X_train, y_train, X_valid, y_valid, 80, 91)"
   ]
  },
  {
   "cell_type": "code",
   "execution_count": 39,
   "metadata": {},
   "outputs": [
    {
     "name": "stdout",
     "output_type": "stream",
     "text": [
      "Learning rate set to 0.353908\n",
      "0:\tlearn: 32.4902819\ttotal: 57.1ms\tremaining: 5.08s\n",
      "10:\tlearn: 22.0987011\ttotal: 73ms\tremaining: 524ms\n",
      "20:\tlearn: 21.1794276\ttotal: 87.5ms\tremaining: 287ms\n",
      "30:\tlearn: 20.4927013\ttotal: 101ms\tremaining: 193ms\n",
      "40:\tlearn: 19.5659597\ttotal: 116ms\tremaining: 139ms\n",
      "50:\tlearn: 18.8986052\ttotal: 131ms\tremaining: 100ms\n",
      "60:\tlearn: 18.4139737\ttotal: 146ms\tremaining: 69.3ms\n",
      "70:\tlearn: 17.6933880\ttotal: 160ms\tremaining: 42.9ms\n",
      "80:\tlearn: 17.1814030\ttotal: 176ms\tremaining: 19.5ms\n",
      "89:\tlearn: 16.6415529\ttotal: 187ms\tremaining: 0us\n",
      "The RMSE for 90 is 37.41758956183528\n",
      "Learning rate set to 0.350743\n",
      "0:\tlearn: 32.5143330\ttotal: 2.54ms\tremaining: 228ms\n",
      "10:\tlearn: 22.1836069\ttotal: 16.4ms\tremaining: 119ms\n",
      "20:\tlearn: 21.2027851\ttotal: 27.4ms\tremaining: 91.3ms\n",
      "30:\tlearn: 20.2632440\ttotal: 38.8ms\tremaining: 75.1ms\n",
      "40:\tlearn: 19.5751100\ttotal: 50.6ms\tremaining: 61.7ms\n",
      "50:\tlearn: 18.8206692\ttotal: 62.1ms\tremaining: 48.7ms\n",
      "60:\tlearn: 17.9912599\ttotal: 73.2ms\tremaining: 36ms\n",
      "70:\tlearn: 17.4844309\ttotal: 84.8ms\tremaining: 23.9ms\n",
      "80:\tlearn: 16.8157318\ttotal: 96ms\tremaining: 11.8ms\n",
      "90:\tlearn: 16.3552682\ttotal: 107ms\tremaining: 0us\n",
      "The RMSE for 91 is 37.46868325727534\n",
      "Learning rate set to 0.34764\n",
      "0:\tlearn: 32.5380040\ttotal: 2.16ms\tremaining: 197ms\n",
      "10:\tlearn: 22.1688279\ttotal: 15.3ms\tremaining: 113ms\n",
      "20:\tlearn: 21.2558325\ttotal: 54ms\tremaining: 183ms\n",
      "30:\tlearn: 20.4944172\ttotal: 67.5ms\tremaining: 133ms\n",
      "40:\tlearn: 19.6560171\ttotal: 79ms\tremaining: 98.2ms\n",
      "50:\tlearn: 18.9975481\ttotal: 89.8ms\tremaining: 72.2ms\n",
      "60:\tlearn: 18.2291073\ttotal: 101ms\tremaining: 51.2ms\n",
      "70:\tlearn: 17.7242356\ttotal: 112ms\tremaining: 33.1ms\n",
      "80:\tlearn: 17.2001047\ttotal: 123ms\tremaining: 16.7ms\n",
      "90:\tlearn: 16.8184961\ttotal: 135ms\tremaining: 1.48ms\n",
      "91:\tlearn: 16.7787938\ttotal: 136ms\tremaining: 0us\n",
      "The RMSE for 92 is 35.46761038040305\n",
      "Learning rate set to 0.344598\n",
      "0:\tlearn: 32.5612973\ttotal: 1.59ms\tremaining: 146ms\n",
      "10:\tlearn: 22.0507239\ttotal: 13.6ms\tremaining: 102ms\n",
      "20:\tlearn: 21.0876296\ttotal: 24.7ms\tremaining: 84.6ms\n",
      "30:\tlearn: 20.1994335\ttotal: 35.2ms\tremaining: 70.3ms\n",
      "40:\tlearn: 19.5346936\ttotal: 47.3ms\tremaining: 60ms\n",
      "50:\tlearn: 18.9546353\ttotal: 58.8ms\tremaining: 48.4ms\n",
      "60:\tlearn: 18.3416439\ttotal: 70.3ms\tremaining: 36.9ms\n",
      "70:\tlearn: 17.8528234\ttotal: 82.6ms\tremaining: 25.6ms\n",
      "80:\tlearn: 17.2248531\ttotal: 94.7ms\tremaining: 14ms\n",
      "90:\tlearn: 16.7428531\ttotal: 108ms\tremaining: 2.38ms\n",
      "92:\tlearn: 16.6344233\ttotal: 111ms\tremaining: 0us\n",
      "The RMSE for 93 is 38.073781466429814\n",
      "Learning rate set to 0.341614\n",
      "0:\tlearn: 32.5842302\ttotal: 2ms\tremaining: 186ms\n",
      "10:\tlearn: 22.1536761\ttotal: 16.9ms\tremaining: 128ms\n",
      "20:\tlearn: 21.1575086\ttotal: 32.2ms\tremaining: 112ms\n",
      "30:\tlearn: 20.6046406\ttotal: 47.6ms\tremaining: 96.7ms\n",
      "40:\tlearn: 19.7485951\ttotal: 63.6ms\tremaining: 82.2ms\n",
      "50:\tlearn: 18.8476157\ttotal: 80.1ms\tremaining: 67.6ms\n",
      "60:\tlearn: 18.2428725\ttotal: 95.2ms\tremaining: 51.5ms\n",
      "70:\tlearn: 17.6408599\ttotal: 112ms\tremaining: 36.4ms\n",
      "80:\tlearn: 17.0396837\ttotal: 127ms\tremaining: 20.4ms\n",
      "90:\tlearn: 16.4659078\ttotal: 145ms\tremaining: 4.76ms\n",
      "93:\tlearn: 16.3440447\ttotal: 149ms\tremaining: 0us\n",
      "The RMSE for 94 is 35.4913560489718\n",
      "Learning rate set to 0.338688\n",
      "0:\tlearn: 32.6067982\ttotal: 1.4ms\tremaining: 132ms\n",
      "10:\tlearn: 22.0891086\ttotal: 13.7ms\tremaining: 105ms\n",
      "20:\tlearn: 21.0661467\ttotal: 24.6ms\tremaining: 86.7ms\n",
      "30:\tlearn: 20.2144578\ttotal: 36.3ms\tremaining: 75ms\n",
      "40:\tlearn: 19.3881183\ttotal: 47.8ms\tremaining: 62.9ms\n",
      "50:\tlearn: 18.7026553\ttotal: 59.5ms\tremaining: 51.3ms\n",
      "60:\tlearn: 18.1635563\ttotal: 70.5ms\tremaining: 39.3ms\n",
      "70:\tlearn: 17.6221143\ttotal: 81.9ms\tremaining: 27.7ms\n",
      "80:\tlearn: 17.1448533\ttotal: 93.2ms\tremaining: 16.1ms\n",
      "90:\tlearn: 16.7246339\ttotal: 104ms\tremaining: 4.59ms\n",
      "94:\tlearn: 16.5849562\ttotal: 110ms\tremaining: 0us\n",
      "The RMSE for 95 is 35.7054866813817\n",
      "Learning rate set to 0.335817\n",
      "0:\tlearn: 32.6290190\ttotal: 1.6ms\tremaining: 152ms\n",
      "10:\tlearn: 22.1721900\ttotal: 14.8ms\tremaining: 114ms\n",
      "20:\tlearn: 21.1304075\ttotal: 27ms\tremaining: 96.4ms\n",
      "30:\tlearn: 20.2615021\ttotal: 39.6ms\tremaining: 83ms\n",
      "40:\tlearn: 19.4822715\ttotal: 52.3ms\tremaining: 70.2ms\n",
      "50:\tlearn: 18.9393613\ttotal: 64.1ms\tremaining: 56.6ms\n",
      "60:\tlearn: 18.2598964\ttotal: 76.5ms\tremaining: 43.9ms\n",
      "70:\tlearn: 17.7209538\ttotal: 90.3ms\tremaining: 31.8ms\n",
      "80:\tlearn: 17.1070272\ttotal: 103ms\tremaining: 19.1ms\n",
      "90:\tlearn: 16.5716231\ttotal: 116ms\tremaining: 6.4ms\n",
      "95:\tlearn: 16.3551271\ttotal: 124ms\tremaining: 0us\n",
      "The RMSE for 96 is 34.59030460287676\n",
      "Learning rate set to 0.333\n",
      "0:\tlearn: 32.6508963\ttotal: 1.68ms\tremaining: 162ms\n",
      "10:\tlearn: 21.9871062\ttotal: 16ms\tremaining: 125ms\n",
      "20:\tlearn: 20.9767594\ttotal: 28.2ms\tremaining: 102ms\n",
      "30:\tlearn: 20.1492598\ttotal: 41.2ms\tremaining: 87.7ms\n",
      "40:\tlearn: 19.3383596\ttotal: 54.7ms\tremaining: 74.7ms\n",
      "50:\tlearn: 18.7061286\ttotal: 68.7ms\tremaining: 62ms\n",
      "60:\tlearn: 18.1993324\ttotal: 82.1ms\tremaining: 48.5ms\n",
      "70:\tlearn: 17.6104266\ttotal: 96.5ms\tremaining: 35.3ms\n",
      "80:\tlearn: 17.0398394\ttotal: 114ms\tremaining: 22.4ms\n",
      "90:\tlearn: 16.5527946\ttotal: 131ms\tremaining: 8.65ms\n",
      "96:\tlearn: 16.3016509\ttotal: 143ms\tremaining: 0us\n",
      "The RMSE for 97 is 36.362746970722995\n",
      "Learning rate set to 0.330234\n",
      "0:\tlearn: 32.6724492\ttotal: 2.35ms\tremaining: 228ms\n",
      "10:\tlearn: 22.1538197\ttotal: 22.9ms\tremaining: 181ms\n",
      "20:\tlearn: 21.4000780\ttotal: 36.4ms\tremaining: 134ms\n",
      "30:\tlearn: 20.6914155\ttotal: 48.1ms\tremaining: 104ms\n",
      "40:\tlearn: 19.8953856\ttotal: 59.4ms\tremaining: 82.5ms\n",
      "50:\tlearn: 19.0405347\ttotal: 71.7ms\tremaining: 66.1ms\n",
      "60:\tlearn: 18.4803148\ttotal: 83.6ms\tremaining: 50.7ms\n",
      "70:\tlearn: 17.9726167\ttotal: 96.1ms\tremaining: 36.5ms\n",
      "80:\tlearn: 17.4131833\ttotal: 108ms\tremaining: 22.6ms\n",
      "90:\tlearn: 16.8986180\ttotal: 119ms\tremaining: 9.18ms\n",
      "97:\tlearn: 16.6118429\ttotal: 128ms\tremaining: 0us\n",
      "The RMSE for 98 is 37.115641551014086\n",
      "Learning rate set to 0.32752\n",
      "0:\tlearn: 32.6936652\ttotal: 1.45ms\tremaining: 142ms\n",
      "10:\tlearn: 22.3091227\ttotal: 14.1ms\tremaining: 113ms\n",
      "20:\tlearn: 21.2688569\ttotal: 25.7ms\tremaining: 95.3ms\n",
      "30:\tlearn: 20.5928121\ttotal: 38.2ms\tremaining: 83.8ms\n",
      "40:\tlearn: 19.7863604\ttotal: 49.8ms\tremaining: 70.4ms\n",
      "50:\tlearn: 19.0694876\ttotal: 64ms\tremaining: 60.2ms\n",
      "60:\tlearn: 18.4796363\ttotal: 77.1ms\tremaining: 48ms\n",
      "70:\tlearn: 17.8167761\ttotal: 88.9ms\tremaining: 35.1ms\n",
      "80:\tlearn: 17.3011252\ttotal: 100ms\tremaining: 22.3ms\n",
      "90:\tlearn: 16.7978542\ttotal: 111ms\tremaining: 9.78ms\n",
      "98:\tlearn: 16.4561182\ttotal: 121ms\tremaining: 0us\n",
      "The RMSE for 99 is 34.157771824421495\n",
      "Learning rate set to 0.324855\n",
      "0:\tlearn: 32.7145647\ttotal: 1.79ms\tremaining: 178ms\n",
      "10:\tlearn: 22.2613174\ttotal: 14.4ms\tremaining: 116ms\n",
      "20:\tlearn: 21.2781497\ttotal: 26.5ms\tremaining: 99.6ms\n",
      "30:\tlearn: 20.5054335\ttotal: 38.7ms\tremaining: 86.1ms\n",
      "40:\tlearn: 19.7121030\ttotal: 51ms\tremaining: 73.4ms\n",
      "50:\tlearn: 19.1466108\ttotal: 63ms\tremaining: 60.5ms\n",
      "60:\tlearn: 18.6449396\ttotal: 75.3ms\tremaining: 48.2ms\n",
      "70:\tlearn: 18.0822474\ttotal: 87.6ms\tremaining: 35.8ms\n",
      "80:\tlearn: 17.4448731\ttotal: 99.5ms\tremaining: 23.3ms\n",
      "90:\tlearn: 16.9454172\ttotal: 111ms\tremaining: 11ms\n",
      "99:\tlearn: 16.6304353\ttotal: 122ms\tremaining: 0us\n",
      "The RMSE for 100 is 33.280762028336326\n",
      "Learning rate set to 0.324855\n",
      "0:\tlearn: 32.7145647\ttotal: 1.45ms\tremaining: 144ms\n",
      "10:\tlearn: 22.2613174\ttotal: 14.1ms\tremaining: 114ms\n",
      "20:\tlearn: 21.2781497\ttotal: 29.6ms\tremaining: 111ms\n",
      "30:\tlearn: 20.5054335\ttotal: 43.2ms\tremaining: 96.1ms\n",
      "40:\tlearn: 19.7121030\ttotal: 57.7ms\tremaining: 83.1ms\n",
      "50:\tlearn: 19.1466108\ttotal: 73.4ms\tremaining: 70.5ms\n",
      "60:\tlearn: 18.6449396\ttotal: 89.8ms\tremaining: 57.4ms\n",
      "70:\tlearn: 18.0822474\ttotal: 102ms\tremaining: 41.8ms\n",
      "80:\tlearn: 17.4448731\ttotal: 113ms\tremaining: 26.6ms\n",
      "90:\tlearn: 16.9454172\ttotal: 125ms\tremaining: 12.3ms\n",
      "99:\tlearn: 16.6304353\ttotal: 135ms\tremaining: 0us\n",
      "The final RMSE for 100 is 33.280762028336326\n",
      "CPU times: user 11.6 s, sys: 2.19 s, total: 13.8 s\n",
      "Wall time: 1.8 s\n"
     ]
    },
    {
     "data": {
      "text/plain": [
       "33.280762028336326"
      ]
     },
     "execution_count": 39,
     "metadata": {},
     "output_type": "execute_result"
    }
   ],
   "source": [
    "%%time\n",
    "cat(X_train, y_train, X_valid, y_valid, 90, 101)"
   ]
  },
  {
   "cell_type": "code",
   "execution_count": 40,
   "metadata": {},
   "outputs": [
    {
     "name": "stdout",
     "output_type": "stream",
     "text": [
      "The RMSE for 30 is 33.902840356947316\n",
      "The RMSE for 31 is 33.89752374353647\n",
      "The RMSE for 32 is 34.0722267068926\n",
      "The RMSE for 33 is 34.099490415079686\n",
      "The RMSE for 34 is 34.02712272970626\n",
      "The RMSE for 35 is 33.90862676014312\n",
      "The RMSE for 36 is 33.914302433353356\n",
      "The RMSE for 37 is 33.85793993875944\n",
      "The RMSE for 38 is 33.983686698094\n",
      "The RMSE for 39 is 34.04446044114769\n",
      "The RMSE for 40 is 34.11820346223226\n",
      "The final RMSE for 37 is 33.85793993875944\n",
      "CPU times: user 18.1 s, sys: 550 ms, total: 18.7 s\n",
      "Wall time: 1.79 s\n"
     ]
    }
   ],
   "source": [
    "%%time\n",
    "xgb(X_encoded_train, y_encoded_train, X_encoded_valid, y_encoded_valid, 30, 41)"
   ]
  },
  {
   "cell_type": "markdown",
   "metadata": {},
   "source": [
    "This code uses the test data to test the LightGBM model with the optimized number of estimators, leaves, and max_depth. It confirms that the model works in an optimized way with appropriate accuracy levels."
   ]
  },
  {
   "cell_type": "code",
   "execution_count": 41,
   "metadata": {},
   "outputs": [],
   "source": [
    "total_train = pd.concat([X_train, X_valid], axis=0)\n",
    "total_target = pd.concat([y_train, y_valid], axis=0)\n",
    "\n",
    "total_train = total_train.reset_index(drop=True)\n",
    "total_target = total_target.reset_index(drop=True)"
   ]
  },
  {
   "cell_type": "code",
   "execution_count": 42,
   "metadata": {},
   "outputs": [
    {
     "name": "stdout",
     "output_type": "stream",
     "text": [
      "The test RMSE for 85 estimators is 43.266449023117914\n"
     ]
    }
   ],
   "source": [
    "test_lgbm_model = LGBMRegressor(num_leaves=30, max_depth=20, n_estimators=85, random_state=54321)\n",
    "test_lgbm_model.fit(total_train, total_target)\n",
    "test_predictions = test_lgbm_model.predict(X_test)\n",
    "test_lgbm_score = rmse(y_test, test_predictions)\n",
    "print('The test RMSE for 85 estimators is', test_lgbm_score) "
   ]
  },
  {
   "cell_type": "markdown",
   "metadata": {},
   "source": [
    "<h1>Conclusion</h1>\n",
    "\n",
    "The RMSE values for all models were relatively low for all the models that I compared. However, when it comes to narrowing down the models, the gradient boosting models were the most optimized. The LightGBM model will work best for Sweet Lift Taxi's goals both in accuracy and speed. "
   ]
  }
 ],
 "metadata": {
  "kernelspec": {
   "display_name": "sweet_lift_taxi",
   "language": "python",
   "name": "python3"
  },
  "language_info": {
   "codemirror_mode": {
    "name": "ipython",
    "version": 3
   },
   "file_extension": ".py",
   "mimetype": "text/x-python",
   "name": "python",
   "nbconvert_exporter": "python",
   "pygments_lexer": "ipython3",
   "version": "3.11.5"
  },
  "orig_nbformat": 4
 },
 "nbformat": 4,
 "nbformat_minor": 2
}
